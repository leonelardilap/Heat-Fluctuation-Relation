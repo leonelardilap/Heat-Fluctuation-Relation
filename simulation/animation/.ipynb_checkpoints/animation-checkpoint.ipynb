{
 "cells": [
  {
   "cell_type": "markdown",
   "id": "d80a1055",
   "metadata": {},
   "source": [
    "# OVERLAPPING SIMULATIONS OF THE ENSEMBLES"
   ]
  },
  {
   "cell_type": "code",
   "execution_count": 7,
   "id": "94bdf75e",
   "metadata": {},
   "outputs": [],
   "source": [
    "%matplotlib inline\n",
    "import numpy as np\n",
    "import matplotlib.pyplot as plt\n",
    "from matplotlib.animation import FuncAnimation, PillowWriter"
   ]
  },
  {
   "cell_type": "code",
   "execution_count": 8,
   "id": "8261469d",
   "metadata": {},
   "outputs": [],
   "source": [
    "class ThemalBath:\n",
    "    def __init__(self, KBT0, Gamma0, dt):\n",
    "        self.KBT = KBT0\n",
    "        self.Alpha = 1.0-np.exp(-Gamma0*dt)\n",
    "\n",
    "    def random_interaction(self):\n",
    "        self.RG = np.random.normal(loc=0.0, scale=1.0) # -> mu=0.0, sigma=1.0\n",
    "        return self.RG\n",
    "    \n",
    "class Oscillator:\n",
    "\n",
    "    def __init__(self, E0, k0, m0):\n",
    "        self.m, self.k = m0, k0 # -> Physical parameters\n",
    "        \n",
    "        self.E, dE0 = 0.0, 0.005\n",
    "        \n",
    "        Qmax = np.sqrt(2*(E0+dE0)/k0)\n",
    "        Vmax = np.sqrt(2*(E0+dE0)/m0)\n",
    "        \n",
    "        while not (self.E > E0 and self.E < E0+dE0):\n",
    "            zq, zp = np.random.uniform(low=0.0, high=1.0, size=2)\n",
    "            self.q = (2*zq-1)*Qmax\n",
    "            self.v = (2*zp-1)*Vmax\n",
    "            self.E = 0.5*m0*self.v**2+0.5*k0*self.q**2\n",
    "\n",
    "    def burn(self, KBT0, Gamma0, dt):\n",
    "        TB      = ThemalBath(KBT0, Gamma0, dt)\n",
    "        F       = -self.k*self.q\n",
    "        self.v += (1.0/self.m)*F*dt\n",
    "        RG      = TB.random_interaction()\n",
    "        dv      = -TB.Alpha*self.v+np.sqrt((TB.KBT/self.m)*TB.Alpha*(2.0 - TB.Alpha))*RG\n",
    "        self.q += (self.v+0.5*dv)*dt\n",
    "        self.v += dv\n",
    "    \n",
    "    def Getq(self):\n",
    "        return self.q\n",
    "    \n",
    "    def Getv(self):\n",
    "        return self.v\n",
    "    \n",
    "    def Getp(self):\n",
    "        return self.m*self.v\n",
    "    \n",
    "    def GetE(self):\n",
    "        self.E = 0.5*self.m*self.v**2+0.5*self.k*self.q**2\n",
    "        return self.E\n",
    "        \n",
    "class Ensemble():\n",
    "    def __init__(self, E0, k0, m0, N):\n",
    "        self.samples = []\n",
    "        for i in range(N):\n",
    "            oscillator = Oscillator(E0, k0, m0)\n",
    "            self.samples.append(oscillator)"
   ]
  },
  {
   "cell_type": "markdown",
   "id": "bfac0f10",
   "metadata": {},
   "source": [
    "# SIMULATION RUN"
   ]
  },
  {
   "cell_type": "code",
   "execution_count": 13,
   "id": "54706cb1",
   "metadata": {},
   "outputs": [],
   "source": [
    "# -> Oscillator Physical Properties\n",
    "E, k, m = 2.0, 1.0, 1.0\n",
    "omega = np.sqrt(m/k)\n",
    "\n",
    "int_steps, num_oscilators = 150, 2000\n",
    "\n",
    "T = 2.0*np.pi/omega\n",
    "dt = T/int_steps\n",
    "\n",
    "# -> Thermal Bath Physical Properties\n",
    "KBT, Gamma = 2.0, np.log(2.0)/dt"
   ]
  },
  {
   "cell_type": "code",
   "execution_count": null,
   "id": "7d7451fa",
   "metadata": {},
   "outputs": [],
   "source": [
    "ensemble = Ensemble(E0=E, k0=k, m0=m, N=num_oscilators)"
   ]
  },
  {
   "cell_type": "code",
   "execution_count": null,
   "id": "bc5d40ad",
   "metadata": {},
   "outputs": [],
   "source": [
    "qs, ps = [], []\n",
    "oscillator_index = 0\n",
    "for oscillator in ensemble.samples:\n",
    "    sampleq, samplep = [], []\n",
    "    # -> Termalization\n",
    "    for t in range(4*int_steps):\n",
    "        if oscillator_index < num_oscilators//5:\n",
    "            oscillator.burn(KBT0=KBT, Gamma0=0, dt=dt)\n",
    "        else:\n",
    "            oscillator.burn(KBT0=KBT, Gamma0=Gamma, dt=dt)\n",
    "            \n",
    "    for t in range(2*int_steps):\n",
    "        if oscillator_index < num_oscilators//5:\n",
    "            oscillator.burn(KBT0=KBT, Gamma0=0, dt=dt)\n",
    "        else:\n",
    "            oscillator.burn(KBT0=KBT, Gamma0=Gamma, dt=dt)\n",
    "        sampleq.append(oscillator.Getq())\n",
    "        samplep.append(oscillator.Getp())\n",
    "    \n",
    "    oscillator_index += 1\n",
    "    qs.append(sampleq)\n",
    "    ps.append(samplep)"
   ]
  },
  {
   "cell_type": "markdown",
   "id": "1d670a38",
   "metadata": {},
   "source": [
    "# ANIMATION OF THE ENSEMBLES"
   ]
  },
  {
   "cell_type": "code",
   "execution_count": null,
   "id": "c19ca7d5",
   "metadata": {},
   "outputs": [],
   "source": [
    "from matplotlib.animation import FuncAnimation, PillowWriter\n",
    "\n",
    "fig,ax = plt.subplots(figsize=(6,6))\n",
    "\n",
    "def animate(i):\n",
    "    ax.clear()\n",
    "    ax.set_xlim(-6.0, 6.0)\n",
    "    ax.set_ylim(-6.0, 6.0)\n",
    "    ax.set_title('Phase Space', fontsize=20)\n",
    "    ax.grid(True)\n",
    "    points, oscillator_index = [], num_oscilators-2\n",
    "    \n",
    "    point, = ax.plot(qs[0][i] , ps[0][i], marker=\".\", alpha=0.5, color='blue', linewidth =1.5, markeredgecolor='black', markersize=12.5, label = r'Micro-canonical ensemble', linestyle=\"None\")\n",
    "    points.append(point,)\n",
    "    point, = ax.plot(qs[-1][i], ps[-1][i], marker=\".\", alpha=0.5, color='red', linewidth =1.5, markeredgecolor='black', markersize=12.5, label = r'Canonical ensemble', linestyle=\"None\")\n",
    "    points.append(point,)\n",
    "    \n",
    "    for q, p in zip(qs[1:-1][::-1], ps[1:-1][::-1]):\n",
    "        \n",
    "        if oscillator_index < num_oscilators//5:\n",
    "            point, = ax.plot(q[i], p[i], marker=\".\", alpha=0.5, color='blue', linewidth =1.5, markeredgecolor='black', markersize=12.5)\n",
    "        else:\n",
    "            point, = ax.plot(q[i], p[i], marker=\".\", alpha=0.5, color='red' , linewidth =1.5, markeredgecolor='black', markersize=12.5)\n",
    "        points.append(point,)\n",
    "        oscillator_index -= 1\n",
    "        \n",
    "    ax.set_xlabel('q', fontsize=16)\n",
    "    ax.set_ylabel('p', fontsize=16)\n",
    "    ax.legend(loc='upper left', fontsize='large')\n",
    "    return tuple(points)\n",
    "\n",
    "ani = FuncAnimation(fig, animate, interval=50, blit=True, repeat=True, frames=150)  \n",
    "  \n",
    "ani.save(\"ensembles.gif\", dpi=100, writer=PillowWriter(fps=20))"
   ]
  }
 ],
 "metadata": {
  "kernelspec": {
   "display_name": "Python 3 (ipykernel)",
   "language": "python",
   "name": "python3"
  },
  "language_info": {
   "codemirror_mode": {
    "name": "ipython",
    "version": 3
   },
   "file_extension": ".py",
   "mimetype": "text/x-python",
   "name": "python",
   "nbconvert_exporter": "python",
   "pygments_lexer": "ipython3",
   "version": "3.8.15"
  }
 },
 "nbformat": 4,
 "nbformat_minor": 5
}
